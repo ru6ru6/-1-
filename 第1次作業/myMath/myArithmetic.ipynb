{
 "cells": [
  {
   "cell_type": "code",
   "execution_count": null,
   "metadata": {},
   "outputs": [],
   "source": [
    "''' myArithmetic '''\n",
    "\n",
    "def add ( x , y ) :\n",
    "    return x + y\n",
    "\n",
    "def subtract ( x , y ) :\n",
    "    return x - y\n",
    "\n",
    "def multiply ( x , y ) :\n",
    "    return x * y\n",
    "\n",
    "def divide ( x , y ) :\n",
    "    if y != 0 :\n",
    "        return x / y\n",
    "    else :\n",
    "        return False"
   ]
  }
 ],
 "metadata": {
  "kernelspec": {
   "display_name": "Python 3",
   "language": "python",
   "name": "python3"
  },
  "language_info": {
   "codemirror_mode": {
    "name": "ipython",
    "version": 3
   },
   "file_extension": ".py",
   "mimetype": "text/x-python",
   "name": "python",
   "nbconvert_exporter": "python",
   "pygments_lexer": "ipython3",
   "version": "3.8.5"
  }
 },
 "nbformat": 4,
 "nbformat_minor": 4
}
