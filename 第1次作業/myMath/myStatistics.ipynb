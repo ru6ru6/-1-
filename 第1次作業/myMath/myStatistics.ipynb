{
 "cells": [
  {
   "cell_type": "code",
   "execution_count": null,
   "metadata": {},
   "outputs": [],
   "source": [
    "''' myStatistics '''\n",
    "\n",
    "def average ( A ) :\n",
    "    sum = 0\n",
    "    N = 0\n",
    "    for i in A :\n",
    "        sum += i\n",
    "        N += 1\n",
    "    if N > 0 :\n",
    "        return sum / N\n",
    "    if N == 0 :\n",
    "        return False\n",
    "\n",
    "def maximum ( A ) :\n",
    "    max = 0\n",
    "    for i in A :\n",
    "        if i > max :\n",
    "            max = i\n",
    "    return max\n",
    "\n",
    "def Minimum ( A ) :\n",
    "    min = 0\n",
    "    for i in A :\n",
    "        if i < min :\n",
    "            min = i\n",
    "    return min"
   ]
  }
 ],
 "metadata": {
  "kernelspec": {
   "display_name": "Python 3",
   "language": "python",
   "name": "python3"
  },
  "language_info": {
   "codemirror_mode": {
    "name": "ipython",
    "version": 3
   },
   "file_extension": ".py",
   "mimetype": "text/x-python",
   "name": "python",
   "nbconvert_exporter": "python",
   "pygments_lexer": "ipython3",
   "version": "3.8.5"
  }
 },
 "nbformat": 4,
 "nbformat_minor": 4
}
