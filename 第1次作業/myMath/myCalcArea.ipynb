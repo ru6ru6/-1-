{
 "cells": [
  {
   "cell_type": "code",
   "execution_count": null,
   "metadata": {},
   "outputs": [],
   "source": [
    "''' myCalcArea '''\n",
    "\n",
    "PI = 3.1415\n",
    "\n",
    "def rectangle ( w , l ) :\n",
    "    return w * l\n",
    "\n",
    "def triangle ( s , h ) :\n",
    "    return s * h / 2\n",
    "\n",
    "def square ( s ) :\n",
    "    return s ** 2\n",
    "\n",
    "def circle ( r ) :\n",
    "    return PI * r ** 2"
   ]
  }
 ],
 "metadata": {
  "kernelspec": {
   "display_name": "Python 3",
   "language": "python",
   "name": "python3"
  },
  "language_info": {
   "codemirror_mode": {
    "name": "ipython",
    "version": 3
   },
   "file_extension": ".py",
   "mimetype": "text/x-python",
   "name": "python",
   "nbconvert_exporter": "python",
   "pygments_lexer": "ipython3",
   "version": "3.8.5"
  }
 },
 "nbformat": 4,
 "nbformat_minor": 4
}
